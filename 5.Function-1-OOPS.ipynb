{
 "cells": [
  {
   "cell_type": "code",
   "execution_count": 1,
   "id": "6bace739",
   "metadata": {},
   "outputs": [],
   "source": [
    "def AgeCategory():\n",
    "    if(age<18):\n",
    "        print(\"children\")\n",
    "        cate=\"children\"\n",
    "    elif(age<35):\n",
    "        print(\"adult\")\n",
    "        cate=\"adult\"\n",
    "    elif(age<59):\n",
    "        print(\"citizen\")\n",
    "        cate=\"citizen\"\n",
    "    else:\n",
    "        print(\"senior citizen\")\n",
    "        cate=\"senior citizen\"\n",
    "    return cate    "
   ]
  },
  {
   "cell_type": "code",
   "execution_count": 2,
   "id": "aeb9bb3c",
   "metadata": {},
   "outputs": [
    {
     "name": "stdout",
     "output_type": "stream",
     "text": [
      "Enter the age:89\n",
      "senior citizen\n"
     ]
    }
   ],
   "source": [
    "age=int(input(\"Enter the age:\"))\n",
    "agecate=AgeCategory()"
   ]
  },
  {
   "cell_type": "code",
   "execution_count": 6,
   "id": "153f1b2c",
   "metadata": {},
   "outputs": [
    {
     "ename": "NameError",
     "evalue": "name 'message' is not defined",
     "output_type": "error",
     "traceback": [
      "\u001b[1;31m---------------------------------------------------------------------------\u001b[0m",
      "\u001b[1;31mNameError\u001b[0m                                 Traceback (most recent call last)",
      "Cell \u001b[1;32mIn[6], line 10\u001b[0m\n\u001b[0;32m      8\u001b[0m         message\u001b[38;5;241m=\u001b[39m\u001b[38;5;124m\"\u001b[39m\u001b[38;5;124mEven number\u001b[39m\u001b[38;5;124m\"\u001b[39m\n\u001b[0;32m      9\u001b[0m     \u001b[38;5;28;01mreturn\u001b[39;00m message\n\u001b[1;32m---> 10\u001b[0m \u001b[38;5;28;01mif\u001b[39;00m(message\u001b[38;5;241m==\u001b[39m\u001b[38;5;124m\"\u001b[39m\u001b[38;5;124modd number\u001b[39m\u001b[38;5;124m\"\u001b[39m):\n\u001b[0;32m     11\u001b[0m     \u001b[38;5;28mprint\u001b[39m(\u001b[38;5;124m\"\u001b[39m\u001b[38;5;124mThe given number is odd\u001b[39m\u001b[38;5;124m\"\u001b[39m)\n\u001b[0;32m     12\u001b[0m \u001b[38;5;28;01melse\u001b[39;00m:\n",
      "\u001b[1;31mNameError\u001b[0m: name 'message' is not defined"
     ]
    }
   ],
   "source": [
    "def OddEven():\n",
    "    num=int(input(\"Enter a Number:\"))\n",
    "    if(num%2==1):\n",
    "        print(\"odd number\")\n",
    "        message=\"odd number\"\n",
    "    else:\n",
    "        print(\"Even number\")\n",
    "        message=\"Even number\"\n",
    "    return message\n"
   ]
  },
  {
   "cell_type": "code",
   "execution_count": 8,
   "id": "be91ac19",
   "metadata": {},
   "outputs": [
    {
     "name": "stdout",
     "output_type": "stream",
     "text": [
      "Enter a Number:7\n",
      "odd number\n"
     ]
    },
    {
     "ename": "NameError",
     "evalue": "name 'message' is not defined",
     "output_type": "error",
     "traceback": [
      "\u001b[1;31m---------------------------------------------------------------------------\u001b[0m",
      "\u001b[1;31mNameError\u001b[0m                                 Traceback (most recent call last)",
      "Cell \u001b[1;32mIn[8], line 2\u001b[0m\n\u001b[0;32m      1\u001b[0m oddoreven\u001b[38;5;241m=\u001b[39mOddEven()\n\u001b[1;32m----> 2\u001b[0m \u001b[38;5;28;01mif\u001b[39;00m(message\u001b[38;5;241m==\u001b[39m\u001b[38;5;124m\"\u001b[39m\u001b[38;5;124modd number\u001b[39m\u001b[38;5;124m\"\u001b[39m):\n\u001b[0;32m      3\u001b[0m     \u001b[38;5;28mprint\u001b[39m(\u001b[38;5;124m\"\u001b[39m\u001b[38;5;124mThe given number is odd\u001b[39m\u001b[38;5;124m\"\u001b[39m)\n\u001b[0;32m      4\u001b[0m \u001b[38;5;28;01melse\u001b[39;00m:\n",
      "\u001b[1;31mNameError\u001b[0m: name 'message' is not defined"
     ]
    }
   ],
   "source": [
    "oddoreven=OddEven()\n",
    "if(message==\"odd number\"):\n",
    "    print(\"The given number is odd\")\n",
    "else:\n",
    "    print(\"The given number is even\")"
   ]
  },
  {
   "cell_type": "code",
   "execution_count": 5,
   "id": "fd00691c",
   "metadata": {},
   "outputs": [
    {
     "ename": "NameError",
     "evalue": "name 'message' is not defined",
     "output_type": "error",
     "traceback": [
      "\u001b[1;31m---------------------------------------------------------------------------\u001b[0m",
      "\u001b[1;31mNameError\u001b[0m                                 Traceback (most recent call last)",
      "Cell \u001b[1;32mIn[5], line 1\u001b[0m\n\u001b[1;32m----> 1\u001b[0m \u001b[38;5;28;01mif\u001b[39;00m(message\u001b[38;5;241m==\u001b[39m\u001b[38;5;124m\"\u001b[39m\u001b[38;5;124modd number\u001b[39m\u001b[38;5;124m\"\u001b[39m):\n\u001b[0;32m      2\u001b[0m     \u001b[38;5;28mprint\u001b[39m(\u001b[38;5;124m\"\u001b[39m\u001b[38;5;124mThe given number is odd\u001b[39m\u001b[38;5;124m\"\u001b[39m)\n\u001b[0;32m      3\u001b[0m \u001b[38;5;28;01melse\u001b[39;00m:\n",
      "\u001b[1;31mNameError\u001b[0m: name 'message' is not defined"
     ]
    }
   ],
   "source": [
    "if(message==\"odd number\"):\n",
    "    print(\"The given number is odd\")\n",
    "else:\n",
    "    print(\"The given number is even\")"
   ]
  },
  {
   "cell_type": "code",
   "execution_count": 11,
   "id": "4348cc3a",
   "metadata": {},
   "outputs": [
    {
     "name": "stdout",
     "output_type": "stream",
     "text": [
      "Enter the BMI Index:34\n",
      "Very Overweight\n"
     ]
    }
   ],
   "source": [
    "def BMI():\n",
    "    bmi=int(input(\"Enter the BMI Index:\"))\n",
    "    if(bmi<18.5):\n",
    "     print(\"Underweight\")\n",
    "     message=\"Underweight\"\n",
    "    elif(bmi<29.9):\n",
    "     print(\"Overweight\")\n",
    "     message=\"Overweight\"\n",
    "    elif(bmi<34.5):\n",
    "     print(\"Very Overweight\")\n",
    "     message=\"Very Overweight\"\n",
    "    else:\n",
    "     print(\"Extremely overweight\")\n",
    "     message=\"Extremely overweight\"\n",
    "    return message  \n",
    "bmi=BMI()"
   ]
  },
  {
   "cell_type": "code",
   "execution_count": 12,
   "id": "daf28a81",
   "metadata": {},
   "outputs": [],
   "source": [
    "def addition(num1,num2):\n",
    "    add=num1+num2\n",
    "    return add"
   ]
  },
  {
   "cell_type": "code",
   "execution_count": 15,
   "id": "91f06819",
   "metadata": {},
   "outputs": [
    {
     "data": {
      "text/plain": [
       "10"
      ]
     },
     "execution_count": 15,
     "metadata": {},
     "output_type": "execute_result"
    }
   ],
   "source": [
    "addition(4,6)"
   ]
  },
  {
   "cell_type": "code",
   "execution_count": 16,
   "id": "21d67ba5",
   "metadata": {},
   "outputs": [],
   "source": [
    "def subtraction(n1,n2):\n",
    "    sub=n1-n2\n",
    "    return sub"
   ]
  },
  {
   "cell_type": "code",
   "execution_count": 17,
   "id": "42d027a5",
   "metadata": {},
   "outputs": [
    {
     "data": {
      "text/plain": [
       "-2"
      ]
     },
     "execution_count": 17,
     "metadata": {},
     "output_type": "execute_result"
    }
   ],
   "source": [
    "subtraction(7,9)"
   ]
  },
  {
   "cell_type": "code",
   "execution_count": null,
   "id": "44e03263",
   "metadata": {},
   "outputs": [],
   "source": []
  }
 ],
 "metadata": {
  "kernelspec": {
   "display_name": "Python 3 (ipykernel)",
   "language": "python",
   "name": "python3"
  },
  "language_info": {
   "codemirror_mode": {
    "name": "ipython",
    "version": 3
   },
   "file_extension": ".py",
   "mimetype": "text/x-python",
   "name": "python",
   "nbconvert_exporter": "python",
   "pygments_lexer": "ipython3",
   "version": "3.11.5"
  }
 },
 "nbformat": 4,
 "nbformat_minor": 5
}
