{
 "cells": [
  {
   "cell_type": "code",
   "execution_count": 2,
   "id": "3524bf13",
   "metadata": {},
   "outputs": [],
   "source": [
    "import pickle #for deployment"
   ]
  },
  {
   "cell_type": "code",
   "execution_count": 3,
   "id": "410738a5",
   "metadata": {},
   "outputs": [
    {
     "name": "stderr",
     "output_type": "stream",
     "text": [
      "C:\\Users\\Rayen Subhikha\\Downloads\\Rayen-personal\\Lib\\site-packages\\sklearn\\base.py:464: UserWarning: X does not have valid feature names, but LinearRegression was fitted with feature names\n",
      "  warnings.warn(\n"
     ]
    }
   ],
   "source": [
    "loaded_model=pickle.load(open(\"finalised_model_linear.sav\",'rb')) #loading the saved model\n",
    "result=loaded_model.predict([[15]]) #getting inputs"
   ]
  },
  {
   "cell_type": "code",
   "execution_count": 4,
   "id": "53c81973",
   "metadata": {},
   "outputs": [
    {
     "data": {
      "text/plain": [
       "array([[167181.3106341]])"
      ]
     },
     "execution_count": 4,
     "metadata": {},
     "output_type": "execute_result"
    }
   ],
   "source": [
    "result #output"
   ]
  },
  {
   "cell_type": "code",
   "execution_count": null,
   "id": "d5474b06",
   "metadata": {},
   "outputs": [],
   "source": []
  }
 ],
 "metadata": {
  "kernelspec": {
   "display_name": "Python 3 (ipykernel)",
   "language": "python",
   "name": "python3"
  },
  "language_info": {
   "codemirror_mode": {
    "name": "ipython",
    "version": 3
   },
   "file_extension": ".py",
   "mimetype": "text/x-python",
   "name": "python",
   "nbconvert_exporter": "python",
   "pygments_lexer": "ipython3",
   "version": "3.11.5"
  }
 },
 "nbformat": 4,
 "nbformat_minor": 5
}
