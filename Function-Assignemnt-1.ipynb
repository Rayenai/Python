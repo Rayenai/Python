{
 "cells": [
  {
   "cell_type": "code",
   "execution_count": 10,
   "id": "7f9caf3e",
   "metadata": {},
   "outputs": [],
   "source": [
    "def Subfields():\n",
    "    subfields=[\"Machine Learning\",\"Neural networks\",\"Vision\",\"Robotics\",\"Speech processing\",\"Natural Language processing\"]\n",
    "    print(\"Sub-fields in AI are:\")\n",
    "    for i in subfields:\n",
    "        sub_fields=print(i)\n",
    "    return sub_fields    \n",
    "        "
   ]
  },
  {
   "cell_type": "code",
   "execution_count": 11,
   "id": "37e4e151",
   "metadata": {},
   "outputs": [
    {
     "name": "stdout",
     "output_type": "stream",
     "text": [
      "Sub-fields in AI are:\n",
      "Machine Learning\n",
      "Neural networks\n",
      "Vision\n",
      "Robotics\n",
      "Speech processing\n",
      "Natural Language processing\n"
     ]
    }
   ],
   "source": [
    "SubfieldsInAI=Subfields()"
   ]
  },
  {
   "cell_type": "code",
   "execution_count": 16,
   "id": "a7bdce50",
   "metadata": {},
   "outputs": [
    {
     "name": "stdout",
     "output_type": "stream",
     "text": [
      "Enter a Number: 52452\n",
      "52452 is Even number\n"
     ]
    }
   ],
   "source": [
    "def OddEven():\n",
    "    num = int(input(\"Enter a Number: \"))\n",
    "    if num % 2 == 1:\n",
    "        print(num,\"is odd number\")\n",
    "        message = \"odd number\"\n",
    "    else:\n",
    "        print(num,\"is Even number\")\n",
    "        message = \"Even number\"\n",
    "    return message\n",
    "\n",
    "message = OddEven()\n"
   ]
  },
  {
   "cell_type": "code",
   "execution_count": 18,
   "id": "7a3f6aeb",
   "metadata": {},
   "outputs": [],
   "source": [
    "def Elegible():\n",
    "    gender=input(\"Your gender:\")\n",
    "    age=int(input(\"Your age:\"))\n",
    "    if(gender==\"Male\"):\n",
    "        if(age==21):\n",
    "            print(\"ELIGIBLE\")\n",
    "            message=\"ELIGIBLE\"\n",
    "        else:\n",
    "            print(\"NOT ELIGIBLE\")\n",
    "            message=\"NOT ELIGIBLE\"\n",
    "    else:\n",
    "        if(age==18):\n",
    "            print(\"ELIGIBLE\")\n",
    "            message=\"ELIGIBLE\"\n",
    "        else:\n",
    "            print(\"NOT ELIGIBLE\")\n",
    "            message=\"NOT ELIGIBLE\"\n",
    "    return message        "
   ]
  },
  {
   "cell_type": "code",
   "execution_count": 19,
   "id": "79ae5d1c",
   "metadata": {},
   "outputs": [
    {
     "name": "stdout",
     "output_type": "stream",
     "text": [
      "Your gender:Male\n",
      "Your age:20\n",
      "NOT ELIGIBLE\n"
     ]
    }
   ],
   "source": [
    "ElegiblityForMarriage=Elegible()"
   ]
  },
  {
   "cell_type": "code",
   "execution_count": 25,
   "id": "c15faf48",
   "metadata": {},
   "outputs": [],
   "source": [
    "def percentage():\n",
    "    subject1=int(input(\"Subject1=\"))\n",
    "    subject2=int(input(\"Subject2=\"))\n",
    "    subject3=int(input(\"Subject3=\"))\n",
    "    subject4=int(input(\"Subject4=\"))\n",
    "    subject5=int(input(\"Subject5=\"))\n",
    "    total=subject1+subject2+subject3+subject4+subject5\n",
    "    print(\"Total :\",total)\n",
    "    percent=print(\"Percentage :\",float(total/500)*100)\n",
    "    return percent\n",
    "    "
   ]
  },
  {
   "cell_type": "code",
   "execution_count": 27,
   "id": "f22304d4",
   "metadata": {},
   "outputs": [
    {
     "name": "stdout",
     "output_type": "stream",
     "text": [
      "Subject1=98\n",
      "Subject2=87\n",
      "Subject3=95\n",
      "Subject4=95\n",
      "Subject5=93\n",
      "Total : 468\n",
      "Percentage : 93.60000000000001\n"
     ]
    }
   ],
   "source": [
    "FindPercent=percentage()"
   ]
  },
  {
   "cell_type": "code",
   "execution_count": 28,
   "id": "a6d44ab5",
   "metadata": {},
   "outputs": [],
   "source": [
    "def triangle():\n",
    "    Height=int(input(\"Height:\"))\n",
    "    Breadth=int(input(\"Breadth:\"))\n",
    "    Area=(Height*Breadth)/2\n",
    "    print(\"Area:\",float(Area))\n",
    "    Height1=int(input(\"Height1=\"))\n",
    "    Height2=int(input(\"Height2=\"))\n",
    "    Breadth=int(input(\"Breadth=\"))\n",
    "    Perimeter=Height1+Height2+Breadth\n",
    "    p=print(\"Perimeter of triangle\",Perimeter)\n",
    "    return p\n",
    "\n",
    "\n",
    "    "
   ]
  },
  {
   "cell_type": "code",
   "execution_count": 29,
   "id": "271dbe0b",
   "metadata": {},
   "outputs": [
    {
     "name": "stdout",
     "output_type": "stream",
     "text": [
      "Height:32\n",
      "Breadth:34\n",
      "Area: 544.0\n",
      "Height1=2\n",
      "Height2=4\n",
      "Breadth=4\n",
      "Perimeter of triangle 10\n"
     ]
    }
   ],
   "source": [
    "triangle=triangle()\n"
   ]
  },
  {
   "cell_type": "code",
   "execution_count": null,
   "id": "a54ec70f",
   "metadata": {},
   "outputs": [],
   "source": []
  }
 ],
 "metadata": {
  "kernelspec": {
   "display_name": "Python 3 (ipykernel)",
   "language": "python",
   "name": "python3"
  },
  "language_info": {
   "codemirror_mode": {
    "name": "ipython",
    "version": 3
   },
   "file_extension": ".py",
   "mimetype": "text/x-python",
   "name": "python",
   "nbconvert_exporter": "python",
   "pygments_lexer": "ipython3",
   "version": "3.11.5"
  }
 },
 "nbformat": 4,
 "nbformat_minor": 5
}
